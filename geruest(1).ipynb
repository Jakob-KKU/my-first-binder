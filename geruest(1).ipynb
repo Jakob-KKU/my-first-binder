{
 "cells": [
  {
   "cell_type": "code",
   "execution_count": 29,
   "metadata": {
    "collapsed": false
   },
   "outputs": [
    {
     "data": {
      "text/plain": [
       "0.4"
      ]
     },
     "execution_count": 29,
     "metadata": {},
     "output_type": "execute_result"
    }
   ],
   "source": [
    "#Nutzerangaben\n",
    "L=100\n",
    "#periodic bc\n",
    "dichte=0.4"
   ]
  },
  {
   "cell_type": "code",
   "execution_count": 30,
   "metadata": {
    "collapsed": false
   },
   "outputs": [
    {
     "data": {
      "text/plain": [
       "initialisieren (generic function with 1 method)"
      ]
     },
     "execution_count": 30,
     "metadata": {},
     "output_type": "execute_result"
    }
   ],
   "source": [
    "function initialisieren(straße)\n",
    "    for zaehler in 1:1:length(straße)\n",
    "        x=rand()\n",
    "        if x<dichte\n",
    "            straße[zaehler]=1\n",
    "        end\n",
    "    end\n",
    "    return straße\n",
    "end"
   ]
  },
  {
   "cell_type": "code",
   "execution_count": 31,
   "metadata": {
    "collapsed": false
   },
   "outputs": [
    {
     "data": {
      "text/plain": [
       "updaterandom (generic function with 1 method)"
      ]
     },
     "execution_count": 31,
     "metadata": {},
     "output_type": "execute_result"
    }
   ],
   "source": [
    "function updaterandom(straße)\n",
    "    for j in 1:1:L\n",
    "        #hier fehlt dein Code\n",
    "    end\n",
    "    return straße\n",
    "end"
   ]
  },
  {
   "cell_type": "code",
   "execution_count": 32,
   "metadata": {
    "collapsed": false
   },
   "outputs": [
    {
     "data": {
      "text/plain": [
       "updatesequentiell (generic function with 1 method)"
      ]
     },
     "execution_count": 32,
     "metadata": {},
     "output_type": "execute_result"
    }
   ],
   "source": [
    "function updateparallel(straße)\n",
    "    straße2=zeros(Int,L)\n",
    "    j=1\n",
    "    while (j<=L)\n",
    "        #hier fehlt dein Code\n",
    "    end\n",
    "    return straße2\n",
    "end"
   ]
  },
  {
   "cell_type": "code",
   "execution_count": null,
   "metadata": {
    "collapsed": true
   },
   "outputs": [],
   "source": [
    "function updatenasch(straße)\n",
    "    for j in 1:1:L\n",
    "    #TODO\n",
    "    end\n",
    "    return straße\n",
    "end"
   ]
  },
  {
   "cell_type": "code",
   "execution_count": 37,
   "metadata": {
    "collapsed": false
   },
   "outputs": [
    {
     "ename": "LoadError",
     "evalue": "LoadError: InterruptException:\nwhile loading In[37], in expression starting on line 55",
     "output_type": "error",
     "traceback": [
      "LoadError: InterruptException:\nwhile loading In[37], in expression starting on line 55",
      "",
      " in pycall at /home/stefan/.julia/v0.4/PyCall/src/PyCall.jl:512",
      " in draw at /home/stefan/.julia/v0.4/PyPlot/src/PyPlot.jl:384",
      " [inlined code] from In[37]:76",
      " in anonymous at no file:0"
     ]
    }
   ],
   "source": [
    "#Nutzerangaben\n",
    "L=100\n",
    "#periodic bc\n",
    "dichte=0.4\n",
    "#open bc\n",
    "alpha=0.1\n",
    "beta=0.6\n",
    "\n",
    "bc=1 #boundary conditions 1=perbc 2=openbc\n",
    "\n",
    "sweeps=10000\n",
    "\n",
    "positionen=zeros(Int,L)\n",
    "#positionen=zufaellig_initialisieren(positionen,dichte)\n",
    "#positionen[10]=1\n",
    "initialisieren(positionen)\n",
    "\n",
    "Lverlauf=100\n",
    "verlauf=zeros(Int,L,Lverlauf)\n",
    "verlauf[:,1]=positionen[:]\n",
    "\n",
    "using PyPlot\n",
    "pygui(true)\n",
    "f=figure()\n",
    "\n",
    "ax1=subplot2grid((3,3), (0,0), colspan=2, rowspan=2)\n",
    "ax2=subplot2grid((3,3), (2,0), colspan=2, rowspan=1)\n",
    "ax3=subplot2grid((3,3), (0,2), colspan=1, rowspan=3)\n",
    "\n",
    "xs=[]\n",
    "ys=[]\n",
    "for k in eachindex(positionen)\n",
    "    if positionen[k]==1\n",
    "        push!(xs,L*cos(2.*pi*k/length(positionen)))\n",
    "        push!(ys,L*sin(2.*pi*k/length(positionen)))\n",
    "    end\n",
    "end\n",
    "\n",
    "pl1=ax1[:plot](xs,ys, marker=\".\", linestyle=\"\", color=\"blue\")[1]\n",
    "ax1[:set_aspect](\"equal\")\n",
    "umrandung=10\n",
    "limitax=L+umrandung\n",
    "ax1[:set_xlim](-limitax,limitax)\n",
    "ax1[:set_ylim](-limitax,limitax)\n",
    "ax2[:set_ylim](-0.2,1.2)\n",
    "ax3[:set_title](\"Verlauf\")\n",
    "ax1[:set_title](\"aktueller Zustand auf Kreis\")\n",
    "ax2[:set_title](\"aktueller Zustand auf Gerade\")\n",
    "\n",
    "pl2=ax2[:plot](positionen, marker=\".\", linestyle=\"\", color=\"blue\")[1]\n",
    "\n",
    "pl3=ax3[:imshow](transpose(verlauf),interpolation=\"None\", aspect=\"auto\")\n",
    "tight_layout()\n",
    "\n",
    "for i in 1:1:sweeps\n",
    "    #positionen=updaterandom(positionen)    \n",
    "    positionen=updateparallel(positionen)    \n",
    "    xs=[]\n",
    "    ys=[]\n",
    "    for k in eachindex(positionen)\n",
    "        if positionen[k]==1\n",
    "            push!(xs,L*cos(2.*pi*k/length(positionen)))\n",
    "            push!(ys,L*sin(2.*pi*k/length(positionen)))\n",
    "        end\n",
    "    end\n",
    "    if i<Lverlauf\n",
    "        verlauf[:,i+1]=positionen[:]\n",
    "    else\n",
    "        verlauf[:,1:Lverlauf-1]=verlauf[:,2:Lverlauf]\n",
    "        verlauf[:,Lverlauf]=positionen[:]\n",
    "    end\n",
    "    \n",
    "    pl1[:set_data](xs,ys)\n",
    "    pl2[:set_data]([collect(1:L)],positionen)\n",
    "    pl3[:set_data](transpose(verlauf))\n",
    "    draw()\n",
    "    sleep(0.1)\n",
    "end"
   ]
  },
  {
   "cell_type": "code",
   "execution_count": null,
   "metadata": {
    "collapsed": false
   },
   "outputs": [],
   "source": []
  },
  {
   "cell_type": "code",
   "execution_count": null,
   "metadata": {
    "collapsed": true
   },
   "outputs": [],
   "source": []
  }
 ],
 "metadata": {
  "kernelspec": {
   "display_name": "Julia 0.4.5",
   "language": "julia",
   "name": "julia-0.4"
  },
  "language_info": {
   "file_extension": ".jl",
   "mimetype": "application/julia",
   "name": "julia",
   "version": "0.4.5"
  }
 },
 "nbformat": 4,
 "nbformat_minor": 0
}
