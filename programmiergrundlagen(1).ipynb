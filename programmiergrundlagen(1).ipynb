{
 "cells": [
  {
   "cell_type": "markdown",
   "metadata": {},
   "source": [
    "# Programmiergrundlagen\n",
    "\n",
    "Wir wollen hier die nötigen Programmiergrundlagen lernen, um das bereits auf den Arbeitsblättern kennengelernte Nagel-Schreckenberg Modell simulieren zu können. Das heißt, wir wollen die Statusupdate Regeln im Computer durchführen und dies dann beliebig oft wiederholen. Wenn wir gelernt haben, wie die Update-Regeln richtig implementiert werden, wollen wir schließlich den Verkehrsfluss grafisch darstellen, d.h. eine Animation von den im Kreis fahrenden Autos erzeugen. Bevor wir das aber tun, lernen wir erst ein paar Programmiergrundlagen. Dann versuchen wir das leichtere Modell des TASEP (Totally Asymmetric Exclusion Process,https://de.wikipedia.org/wiki/ASEP) zu programmieren, um danach dann schließlich das Nagel Schreckeneberg Modell umzusetzen\n",
    "\n",
    "Wir nutzen hier die Programmiersprache Julia, welche sehr intuitiv zu bedienen ist und gleichzeit sehr schnell arbeitet.\n",
    "\n",
    "## Julia notebooks\n",
    "Wir arbeiten hier mit Julia notebooks. Jeder Zelle (Cell) kann hier einzeln ausgeführt werden. Dies geht durch Drücken von Strg+Enter.\n",
    "Ein wichtiger Befehl, den wir brauchen werden ist eine einfache Ausgabe von Text. Dies geht mit dem Befehl println(\"Text\"). Führe dazu folgende Zelle aus:"
   ]
  },
  {
   "cell_type": "code",
   "execution_count": 2,
   "metadata": {},
   "outputs": [
    {
     "name": "stdout",
     "output_type": "stream",
     "text": [
      "Dieser Text wird nun ausgegeben.jjjjj\n"
     ]
    }
   ],
   "source": [
    "println(\"Dieser Text wird nun ausgegeben.jjjjj\")"
   ]
  },
  {
   "cell_type": "markdown",
   "metadata": {},
   "source": [
    "### Variablen\n",
    "Variablen sind Platzhalten für verschiedene Werte. Wenn in einer Zelle eine Variable definiert wird, ist diese auch in den folgenden Zellen gesetzt.\n",
    "\n",
    "Wir werden folgende Variablen-Typen brauchen:\n",
    "- Bool-Variablen: können entweder den Wert true (1) oder false (0) haben\n",
    "- Integer - Variablen: ganzzahlige Variablen\n",
    "- Float - Variablen: Kommazahlen (Komma ist intern ein Punkt, also 0.3 nicht 0,3)\n",
    "\n",
    "In der folgenden Zelle wird eine Bool Variable des Namens $a$ mit dem Wert 1 (bzw true) erstellt."
   ]
  },
  {
   "cell_type": "code",
   "execution_count": 4,
   "metadata": {},
   "outputs": [
    {
     "name": "stdout",
     "output_type": "stream",
     "text": [
      "true\n"
     ]
    }
   ],
   "source": [
    "a=true\n",
    "println(a)"
   ]
  },
  {
   "cell_type": "markdown",
   "metadata": {},
   "source": [
    "**Aufgabe:** erstelle eine Variable $b$, die den gleichen Wert wie $a$ hat und gebe den Wert von $b$ aus. Dann setze $b$\n",
    "auf den Wert 0 (false) und gebe $b$ erneut aus"
   ]
  },
  {
   "cell_type": "code",
   "execution_count": 7,
   "metadata": {},
   "outputs": [
    {
     "name": "stdout",
     "output_type": "stream",
     "text": [
      "true\n",
      "false\n"
     ]
    }
   ],
   "source": []
  },
  {
   "cell_type": "markdown",
   "metadata": {},
   "source": [
    "Jetzt erstellen wir eine Variable $c$ vom Typ Integer mit dem Wert 4:"
   ]
  },
  {
   "cell_type": "code",
   "execution_count": 9,
   "metadata": {},
   "outputs": [
    {
     "data": {
      "text/plain": [
       "4"
      ]
     },
     "execution_count": 9,
     "metadata": {},
     "output_type": "execute_result"
    }
   ],
   "source": []
  },
  {
   "cell_type": "markdown",
   "metadata": {},
   "source": [
    "**Aufgabe:** Integer-Variablen, also ganze Zahlen können mit Float Variablen, also Kommazahlen, verrechnet werden. Erstelle nun \n",
    "eine Variable $d$, welche den Wert von $c$ multipliziert mit 0.2 hat und gebe dann $d$ aus."
   ]
  },
  {
   "cell_type": "code",
   "execution_count": 10,
   "metadata": {},
   "outputs": [
    {
     "name": "stdout",
     "output_type": "stream",
     "text": [
      "0.8\n"
     ]
    }
   ],
   "source": []
  },
  {
   "cell_type": "markdown",
   "metadata": {},
   "source": [
    "Um später den TASEP oder das Nagel-Schreckenberg Modell zu programmiernen müssen wir noch wissen, was sg. Arrays sind. Arrays sind Felder von mehreren Variablen. Zum Beispiel ein Feld von 10 Integer Variablen.\n",
    "Im folgenden wird solch ein Feld, welches 10 ganzzahlige (Int) Nullen enthält unter dem Namen $feld1$ erstellt:"
   ]
  },
  {
   "cell_type": "code",
   "execution_count": 15,
   "metadata": {},
   "outputs": [
    {
     "name": "stdout",
     "output_type": "stream",
     "text": [
      "[1,1]\n"
     ]
    }
   ],
   "source": [
    "feld1=[0, 1]\n",
    "feld1[1]=1\n",
    "\n",
    "println(feld1)"
   ]
  },
  {
   "cell_type": "markdown",
   "metadata": {},
   "source": [
    "Man kann nun auf einzelne Einträge des Feldes zugreifen, dies geschieht durch eckige Klammern. Im Folgenden werden nun zB einige Einträge des Feldes geändert und danach wird das Feld nochmal ausgegeben."
   ]
  },
  {
   "cell_type": "code",
   "execution_count": 5,
   "metadata": {},
   "outputs": [
    {
     "name": "stdout",
     "output_type": "stream",
     "text": [
      "[0,2,0,8,0,0,0,6,0,0]\n"
     ]
    }
   ],
   "source": [
    "feld1[2]=2\n",
    "feld1[4]=8\n",
    "feld1[8]=6\n",
    "println(feld1)"
   ]
  },
  {
   "cell_type": "markdown",
   "metadata": {},
   "source": [
    "Mit den eckigen Klammern kann man sich auch einzelne Einträge eines Arrays ausgeben lassen:"
   ]
  },
  {
   "cell_type": "code",
   "execution_count": 16,
   "metadata": {},
   "outputs": [
    {
     "name": "stdout",
     "output_type": "stream",
     "text": [
      "1\n"
     ]
    }
   ],
   "source": [
    "println(feld1[2])"
   ]
  },
  {
   "cell_type": "markdown",
   "metadata": {},
   "source": [
    "## If, else, elseif Abfragen bzw. Vergleiche\n",
    "Bei nahezu allen Programmieraufgaben kommen Vergleiche zum Einsatz. Man will zB oft wissen, ob eine bestimmte Variable einen gewissen Wert hat oder nicht. Je nach Wert werden dann unterschiedliche Befehle ausgeführt. Ein Vergleich wird immer mit $if (Bedingung)$ gestartet und mit $end$ beendet. Je nach Zielsetzung wird noch ein $else$ oder ein $elseif$ benötigt.\n",
    "Hier werden zum Beispiel die Werte von zwei Kommazahlen verglichen und je nach Ergebnis des Vergleichs wird etwas ausgegeben:\n"
   ]
  },
  {
   "cell_type": "code",
   "execution_count": 17,
   "metadata": {},
   "outputs": [
    {
     "name": "stdout",
     "output_type": "stream",
     "text": [
      "b ist größer\n"
     ]
    }
   ],
   "source": [
    "a=0.1\n",
    "b=0.3\n",
    "if a>b\n",
    "    println(\"a ist gößer\")\n",
    "else\n",
    "    println(\"b ist größer\")\n",
    "end"
   ]
  },
  {
   "cell_type": "markdown",
   "metadata": {},
   "source": [
    "**Aufgabe:** Definiere in der folgenden Zelle eine Variable a mit einem ganzzahligen Wert. Schreibe dann eine Abfrage, die das Wort \"Null\" ausgibt, falls s den Wert 0 hat, die \"Nur eins\" ausgibt falls a den Wert 1 hat und die \"Mehr als eins\" ausgibt falls a den Wert 2 hat (Tipp: hier wird zusätzlich zu oben der Befehl elseif gebraucht. Wie wird dieser wohl verwendet?):"
   ]
  },
  {
   "cell_type": "code",
   "execution_count": null,
   "metadata": {},
   "outputs": [],
   "source": []
  },
  {
   "cell_type": "markdown",
   "metadata": {},
   "source": [
    "**Aufgabe:** Schreibe nun ein Programm, das \"größer als eins\" ausgibt falls a einen beliebigen Wert größer als 1 hat. Sonst soll das Programm das gleiche leisten wie das vorige"
   ]
  },
  {
   "cell_type": "code",
   "execution_count": null,
   "metadata": {
    "collapsed": true
   },
   "outputs": [],
   "source": []
  },
  {
   "cell_type": "markdown",
   "metadata": {},
   "source": [
    "## Schleifen\n",
    "Eine weiteres wichtiges Grundelement des Programmierens sind sg. Schleifen. In Schleifen wird über Variablen interiert. Das bedeutet, dass man zB den Wert von einer Variablen immer weiter um 1 erhöht und bei jedem Zwischenschritt eine bestimmte Handlung durhführt. Wir schauen uns hier die for-Schleife an. Die Struktur ist \"for variablenname in startwert:schrittweite:endwert\", gefolgt von Befehlen und beendet durch ein end. In der folgenden Zelle ist zB eine for-Schleife zu sehen, in der eine Variable $i$ von 1 beginnend immer um 1 erhört wird, bis sie den Wert 10 hat. Bei jedem Schritt wird etwas ausgegeben:"
   ]
  },
  {
   "cell_type": "code",
   "execution_count": null,
   "metadata": {},
   "outputs": [],
   "source": [
    "for i in 1:1:10\n",
    "    println(\"i hat gerade den Wert \", i)\n",
    "end"
   ]
  },
  {
   "cell_type": "markdown",
   "metadata": {},
   "source": [
    "**Aufgabe:** zunächst soll eine Variable a mit dem Wert 0.1 erstellt werden. Dann soll eine Schleife erstellt werden, welche die Variable i von 1 bis 10 in Schritten von 2 durchläuft. In jedem Schritt soll der aktuelle Wert von i mit dem von a multipliziert und ausgegeben werden"
   ]
  },
  {
   "cell_type": "code",
   "execution_count": null,
   "metadata": {},
   "outputs": [],
   "source": []
  },
  {
   "cell_type": "markdown",
   "metadata": {},
   "source": [
    "Mittels Schleifen kann man auch Arrays durchlaufen. Der Befehl length(arrayname) gibt die Länge des Arrays zurück.\n",
    "Hier wird zB ein Array a mit den Einträgen 1,2,3,4,6,5 erstellt und danach Schritt für Schritt ausgegeben"
   ]
  },
  {
   "cell_type": "code",
   "execution_count": null,
   "metadata": {},
   "outputs": [],
   "source": [
    "a=Int[1,2,3,4,6,5]\n",
    "for i in 1:1:length(a)\n",
    "    println(\"a hat an der Stelle \",i, \" den Wert \", a[i])\n",
    "end"
   ]
  },
  {
   "cell_type": "markdown",
   "metadata": {},
   "source": [
    "Man kann Schleifen mit Vergleichen kombinieren. Hier ist zB ein Programm, welches das Array a komplett durchläuft und nur den Wert der Stelle i ausgibt, falls dieser Wert 4 ist:"
   ]
  },
  {
   "cell_type": "code",
   "execution_count": null,
   "metadata": {},
   "outputs": [],
   "source": [
    "a=Int[1,2,3,4,6,5]\n",
    "for i in 1:1:length(a)\n",
    "    if a[i]==4\n",
    "        println(\"a hat an der Stelle \",i, \" den Wert \", a[i])\n",
    "    end\n",
    "end"
   ]
  },
  {
   "cell_type": "markdown",
   "metadata": {},
   "source": [
    "**Aufgabe:** Im folgenden wird ein Array b mit 20 Stellen erzeugt und ausgegeben. Alle Einträge sind entweder 0 oder 1. Erzeuge eine Schleife, die b so ändert, dass alle Nullen zu Einsen werden und umgekehrt. Gebe danach das geänderte b aus\n"
   ]
  },
  {
   "cell_type": "code",
   "execution_count": null,
   "metadata": {},
   "outputs": [],
   "source": [
    "b=rand([0,1],20)\n",
    "println(b)\n",
    "#hier muss die Schleife eingefügt werden"
   ]
  },
  {
   "cell_type": "markdown",
   "metadata": {},
   "source": [
    "Das gleiche Prinzip wie im vorherigen Beispiel kann man auch mit Bool- Variablen statt mit Integer Variablen umsetzen. Meist, wenn es nur um Werte 0 oder 1 geht, kommen statt Integer Variablen Bool Variablen zum Einsatz."
   ]
  },
  {
   "cell_type": "code",
   "execution_count": null,
   "metadata": {},
   "outputs": [],
   "source": [
    "b=map(Bool,rand([0,1],20))\n",
    "println(b)"
   ]
  },
  {
   "cell_type": "markdown",
   "metadata": {},
   "source": [
    "Diese Arrays aus Bool Einträgen sind intern oft sinnvoller, weil (speicher-)platzsparend. Wir werden hier aber der Übersicht halben mit Integer Arrays weiterarbeiten.\n",
    "\n",
    "## Funktionen\n",
    "Die letzte Sache, die wir nun noch brauchen sind Funktionen. Funktionen kann man u.a. dafür nutzen, bestimmte Operationen immer wieder auszuführen. Hier wird zB eine Funktion \"zweimehr\" erzeugt. Diese Funktion bekommt eine Zahl übergeben, erhört diese um zwei und gibt sie dann aus.\n",
    "\n",
    "\n"
   ]
  },
  {
   "cell_type": "code",
   "execution_count": 1,
   "metadata": {},
   "outputs": [
    {
     "name": "stdout",
     "output_type": "stream",
     "text": [
      "5\n"
     ]
    }
   ],
   "source": [
    "function zweimehr(a)\n",
    "    a=a+2\n",
    "    println(a)\n",
    "end\n",
    "\n",
    "zweimehr(3)"
   ]
  },
  {
   "cell_type": "markdown",
   "metadata": {},
   "source": [
    "Solch eine Funktion kann dann auch innerhalb einer Schleife immer wieder aufgerufen werden:"
   ]
  },
  {
   "cell_type": "code",
   "execution_count": 2,
   "metadata": {},
   "outputs": [
    {
     "name": "stdout",
     "output_type": "stream",
     "text": [
      "3\n",
      "4\n",
      "5\n",
      "6\n",
      "7\n",
      "8\n",
      "9\n",
      "10\n",
      "11\n",
      "12\n"
     ]
    }
   ],
   "source": [
    "for i in 1:1:10\n",
    "    zweimehr(i)\n",
    "end"
   ]
  },
  {
   "cell_type": "code",
   "execution_count": 3,
   "metadata": {},
   "outputs": [
    {
     "name": "stdout",
     "output_type": "stream",
     "text": [
      "[1,2,3]\n",
      "[2,4,6]\n"
     ]
    }
   ],
   "source": [
    "function erstelledoppeltesarray(a)\n",
    "    b=copy(a)\n",
    "    b=2*b\n",
    "    return b\n",
    "end\n",
    "\n",
    "a=Int[1,2,3]\n",
    "println(a)\n",
    "println(erstelledoppeltesarray(a))"
   ]
  },
  {
   "cell_type": "markdown",
   "metadata": {},
   "source": [
    "Der Befehl copy(a) kopiert alle Werte auf dem Array a in das Array b. Bei Arrays muss man diesen Befehl nutzen, man kann nichtetwa einfach b=a schreiben. Dann würde der sg. Zeiger auf a kopiert. Das sei hier aber nur am Rande erwähnt."
   ]
  },
  {
   "cell_type": "markdown",
   "metadata": {},
   "source": [
    "## Der TASEP\n",
    "**Aufgabe:** Informiere dich nun über das TASEP Modell, zB bei Wikipedia. Der TASEP entspricht dem Nagel Schreckenberg Modell, welches du auf dem Arbeitsblatt bereits kennengelernt hast, jedoch mit der Höchstgeschwindigkeit 1 und einem Trödelparameter 0.\n",
    "\n",
    "Mit Arrays aus Nullen (kein Auto) und Einsen (Auto) kann man solch ein Modell im Computer umsetzen.\n",
    "\n",
    "**Aufgabe:** Im Folgenden wird wieder ein Array $a$ mit 20 Einträgen aus Nullen und Einsen erstellt. Weiterhin wird ein Array $b$ erstellt, was 20 Nullen enthält. Das Array $a$ soll einem Tasep Zeitschritt entsprechen und das Array $b$ dem darauf folgenden Zeitschritt. Schreibe nun eine Schleife, die das Array $a$ von links nach rechts durchläuft und in Array $b$ entsprechend den upgedateten, also den nächsten, Zeitschritt speichert. Geht man Position für Position von links nach rechts vor (man updated also NICHT alle Autos gleichzeitig!), spricht man von einem **sequentiellen update**. Gehe dazu zunächst nur von der ersten bis zur vorletzten Positon von $a$, d.h. ignoriere den Rand. Gib dann $b$ aus. Nun sollten $a$ und $b$ untereinander stehen und du kannst überprüfen ob dein Programm richtig funktioniert.\n",
    "\n"
   ]
  },
  {
   "cell_type": "code",
   "execution_count": 8,
   "metadata": {},
   "outputs": [
    {
     "name": "stdout",
     "output_type": "stream",
     "text": [
      "[1,0,1,1,1,1,1,1,0,0,1,0,1,1,0,1,1,1,1,1]\n"
     ]
    }
   ],
   "source": [
    "a=rand([0,1],20)\n",
    "b=zeros(Int,20)\n",
    "println(a)\n",
    "#hier soll der nächste Zeitschritt errechnet werden. Schleifen und Vergleiche werden benötigt."
   ]
  },
  {
   "cell_type": "markdown",
   "metadata": {},
   "source": [
    "**Aufgabe:** Wenn die vorige Aufgabe gelöst wurde, soll nun ein Programm erstellt werden, welches zusätzlich auch den Rand mit einbezieht. Das bedeutet, dass auch die letzte Stelle upgedated werden soll. Es sollen sg. periodische Randbedingungen implementiert werden. Das heißt, dass falls ein Auto auf der letzten Position ist, soll dieses nicht etwas verschwinden, sondern von der letzten auf die erste Position springen, sofern diese frei ist. Wie kann man sich so eine Situation bildlich vorstellen? Wie würde eine Straße mit periodischen Randbedingungen in der Realität aussehen?"
   ]
  },
  {
   "cell_type": "code",
   "execution_count": 9,
   "metadata": {},
   "outputs": [
    {
     "name": "stdout",
     "output_type": "stream",
     "text": [
      "[0,1,1,1,0,1,1,1,1,0,1,0,1,1,1,0,1,0,1,0]\n"
     ]
    }
   ],
   "source": [
    "a=rand([0,1],20)\n",
    "b=zeros(Int,20)\n",
    "println(a)\n",
    "#hier soll der nächste Zeitschritt errechnet werden. Schleifen und Vergleiche werden benötigt.\n",
    "#Nun sollen die periodischen Randbedingungen mit eingebaut werden"
   ]
  },
  {
   "cell_type": "markdown",
   "metadata": {},
   "source": [
    "**Aufgabe:** Nun soll ein sogenanntes **random sequential update**, also ein zufällig sequentielles update durchgeführt werden. Wiederrum werden die Arrays a und b erzeugt. In b soll nun wieder der nächste Zeitschritt gespeichert werden. Dazu soll aber das Array a nicht Schritt für Schritt von links nach rechts durchlaufen werden, sondern es wird 20 mal eine zufällige Position von a bestimmt, und diese upgedated und in b gespeichert. Eine Zufallszahl zwischen 1 und 20 erhält man mit dem folgenden Befehl:"
   ]
  },
  {
   "cell_type": "code",
   "execution_count": null,
   "metadata": {},
   "outputs": [],
   "source": [
    "rand(1:20)"
   ]
  },
  {
   "cell_type": "markdown",
   "metadata": {},
   "source": [
    "**Aufgabe:** Nun soll ein sogenanntes **paralleles update** programmiert werden. Das bedeutet, dass effektiv alle Positionen gleichzeitig upgedated werden. Dies hast du auch schon auf dem Arbeitsblatt für das Nagel Schreckenberg Modell kennengelernt. Der Computer kann effektiv nicht alle Stellen gleichzeitig updaten, sonder muss intern schon Schritt für Schritt vorgehen. Wie kann man das also umsetzen? "
   ]
  },
  {
   "cell_type": "code",
   "execution_count": null,
   "metadata": {
    "collapsed": true
   },
   "outputs": [],
   "source": []
  },
  {
   "cell_type": "markdown",
   "metadata": {},
   "source": [
    "**Aufgabe:** Versuche nun eine Updateprozedur deiner Wahl in eine Funktion \"update\" zu schreiben, welche wiederholt aufgerufen werden kann. Wie Funktionen definiert werden haben wir weiter oben schon kurz kennengelernt.\n",
    "Mittels dieser Funktion können nun so viele Zeitschritte wie gewünscht errechnet werden:"
   ]
  },
  {
   "cell_type": "code",
   "execution_count": null,
   "metadata": {},
   "outputs": [],
   "source": [
    "a=rand([0,1],20)\n",
    "b=zeros(Int,20)\n",
    "println(a)\n",
    "anzahlzeitschritte=10\n",
    "\n",
    "# hier soll eine Funktion mit dem Namen update erstellt werden...\n",
    "\n",
    "for i in 1:1:anzahlzeitschritte\n",
    "    update(a)\n",
    "end\n"
   ]
  },
  {
   "cell_type": "markdown",
   "metadata": {},
   "source": [
    "So sollten nun bestenfalls 10 Zeitschritte untereinander dargestellt werden.\n",
    "\n",
    "\n",
    "...wenn das alles erfolgreich bearbeitet wurde, werden wir als nächstes lernen, kleine animierte Videos zu erstellen, auf denen Mann die Teilchen springen sieht."
   ]
  },
  {
   "cell_type": "code",
   "execution_count": null,
   "metadata": {
    "collapsed": true
   },
   "outputs": [],
   "source": []
  }
 ],
 "metadata": {
  "kernelspec": {
   "display_name": "Julia 0.6.2",
   "language": "julia",
   "name": "julia-0.6"
  },
  "language_info": {
   "file_extension": ".jl",
   "mimetype": "application/julia",
   "name": "julia",
   "version": "0.6.2"
  }
 },
 "nbformat": 4,
 "nbformat_minor": 1
}
